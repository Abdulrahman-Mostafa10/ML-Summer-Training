{
 "cells": [
  {
   "cell_type": "markdown",
   "metadata": {},
   "source": [
    "# Lab Assignment: Logistic Regression vs Perceptron\n",
    "## Objective:\n",
    "This lab will help you understand and compare Logistic Regression and Perceptron algorithms using the Diabetes dataset. You will explore the dataset, implement both models, evaluate their performance, and analyze their results."
   ]
  },
  {
   "cell_type": "markdown",
   "metadata": {},
   "source": [
    "#### First: let's import necessary libraries"
   ]
  },
  {
   "cell_type": "code",
   "execution_count": 8,
   "metadata": {},
   "outputs": [],
   "source": [
    "import numpy as np\n",
    "import pandas as pd\n",
    "import matplotlib.pyplot as plt\n",
    "from sklearn.datasets import load_diabetes\n",
    "from sklearn.model_selection import train_test_split\n",
    "from sklearn.linear_model import LogisticRegression, Perceptron\n",
    "from sklearn.metrics import accuracy_score, precision_score, recall_score, f1_score, confusion_matrix "
   ]
  },
  {
   "cell_type": "markdown",
   "metadata": {},
   "source": [
    "### Dataset Characteristics:\n",
    "\n",
    "- Source: Scikit-learn (sklearn.datasets.load_diabetes)\n",
    "\n",
    "- Features: 10 numerical features representing diagnostic measurements:\n",
    "    - Age\n",
    "    - Sex\n",
    "    - Body mass index\n",
    "    - Average blood pressure\n",
    "    - Serum measurements (e.g., cholesterol levels)\n",
    "\n",
    "- Target Variable:\n",
    "\n",
    "    - 0 for no diabetes\n",
    "    - 1 for diabetes\n",
    "\n",
    "- Data Structure:\n",
    "\n",
    "    - Number of Samples: 442\n",
    "    - Number of Features: 10\n",
    "    - Feature Names: age, sex, bmi, bp, s1, s2, s3, s4, s5, s6\n",
    "    - Target Names: no diabetes, diabetes"
   ]
  },
  {
   "cell_type": "code",
   "execution_count": 9,
   "metadata": {},
   "outputs": [
    {
     "name": "stdout",
     "output_type": "stream",
     "text": [
      "The feature names:\n",
      " ['age', 'sex', 'bmi', 'bp', 's1', 's2', 's3', 's4', 's5', 's6']\n",
      "\n",
      "The first five feature data:\n",
      " [[ 0.03807591  0.05068012  0.06169621  0.02187239 -0.0442235  -0.03482076\n",
      "  -0.04340085 -0.00259226  0.01990749 -0.01764613]\n",
      " [-0.00188202 -0.04464164 -0.05147406 -0.02632753 -0.00844872 -0.01916334\n",
      "   0.07441156 -0.03949338 -0.06833155 -0.09220405]\n",
      " [ 0.08529891  0.05068012  0.04445121 -0.00567042 -0.04559945 -0.03419447\n",
      "  -0.03235593 -0.00259226  0.00286131 -0.02593034]\n",
      " [-0.08906294 -0.04464164 -0.01159501 -0.03665608  0.01219057  0.02499059\n",
      "  -0.03603757  0.03430886  0.02268774 -0.00936191]\n",
      " [ 0.00538306 -0.04464164 -0.03638469  0.02187239  0.00393485  0.01559614\n",
      "   0.00814208 -0.00259226 -0.03198764 -0.04664087]]\n",
      "\n",
      "The first five target data:\n",
      " [151.  75. 141. 206. 135.]\n"
     ]
    }
   ],
   "source": [
    "# Load the dataset\n",
    "data = load_diabetes()\n",
    "\n",
    "# Separate the data into feature data and target data\n",
    "# TODO: Set X to the feature data\n",
    "# TODO: Set y to the target data\n",
    "# HINT: The feature and target data are class members of the data object (data.?)\n",
    "X = data.data\n",
    "y = data.target\n",
    "\n",
    "# TODO: Display feature names\n",
    "# HINT: The feature names is also a class member of the data object (data.?)\n",
    "feature_name = data.feature_names\n",
    "print(\"The feature names:\\n\",feature_name)\n",
    "\n",
    "# TODO: Display the first 5 rows of the feature data\n",
    "print(\"\\nThe first five feature data:\\n\",X[:5])\n",
    "\n",
    "# TODO: Display the first 5 elements of the target data\n",
    "print(\"\\nThe first five target data:\\n\", y[:5])"
   ]
  },
  {
   "cell_type": "markdown",
   "metadata": {},
   "source": [
    "### You should find a problem after printing the target\n",
    "- ***See in the target values!***\n",
    "- ***What is wrong about it?***\n",
    "- ***Can We Use the Target Variable as It Is?***\n",
    "\n",
    "**Answer:**\n",
    "- The target data shows the diabetes' progression over time based on the various features we have, and each value is given through a domain of continuous measure, so we have to convert these continuous measures in two discrete values which are: \n",
    "  - Zero: for having no disease, and this has to be for all patients having low progression measures *(N.B: below the mean)*\n",
    "  - One: for having a disease, and this has to be for all patients having high progression measures *(N.B: above the mean)*\n",
    "\n",
    "Don't look in the next cell 3ashan fiha el egaba🤓"
   ]
  },
  {
   "cell_type": "code",
   "execution_count": 10,
   "metadata": {},
   "outputs": [
    {
     "name": "stdout",
     "output_type": "stream",
     "text": [
      "\n",
      "The threshold is: 152.13348416289594\n",
      "\n",
      "The first five binary target data:\n",
      " [0 0 0 1 0]\n"
     ]
    }
   ],
   "source": [
    "# TODO: Convert the target data to binary\n",
    "# TODO: Think about the best way to convert the target data to binary?\n",
    "# TODO: What is the best way to choose the threshold?\n",
    "threshold = np.mean(y)\n",
    "print(\"\\nThe threshold is:\", threshold)\n",
    "y_binary = np.where(y > threshold, 1, 0)\n",
    "# TODO: Display the first 5 elements of the new target data\n",
    "print(\"\\nThe first five binary target data:\\n\", y_binary[:5])"
   ]
  },
  {
   "cell_type": "code",
   "execution_count": 11,
   "metadata": {},
   "outputs": [
    {
     "name": "stdout",
     "output_type": "stream",
     "text": [
      "<class 'pandas.core.frame.DataFrame'>\n",
      "RangeIndex: 442 entries, 0 to 441\n",
      "Data columns (total 11 columns):\n",
      " #   Column  Non-Null Count  Dtype  \n",
      "---  ------  --------------  -----  \n",
      " 0   age     442 non-null    float64\n",
      " 1   sex     442 non-null    float64\n",
      " 2   bmi     442 non-null    float64\n",
      " 3   bp      442 non-null    float64\n",
      " 4   s1      442 non-null    float64\n",
      " 5   s2      442 non-null    float64\n",
      " 6   s3      442 non-null    float64\n",
      " 7   s4      442 non-null    float64\n",
      " 8   s5      442 non-null    float64\n",
      " 9   s6      442 non-null    float64\n",
      " 10  target  442 non-null    int32  \n",
      "dtypes: float64(10), int32(1)\n",
      "memory usage: 36.4 KB\n",
      "None\n"
     ]
    }
   ],
   "source": [
    "# TODO: Create DataFrame from feature data\n",
    "# HINT: Use the feature names as column names and the X data as the data\n",
    "df = pd.DataFrame(X,columns=feature_name)\n",
    "# TODO: Add target data to DataFrame\n",
    "df['target'] = y_binary\n",
    "\n",
    "print(df.info())"
   ]
  },
  {
   "cell_type": "code",
   "execution_count": 12,
   "metadata": {},
   "outputs": [
    {
     "name": "stdout",
     "output_type": "stream",
     "text": [
      "Class Distribution:\n",
      "target\n",
      "0    247\n",
      "1    195\n",
      "Name: count, dtype: int64\n"
     ]
    }
   ],
   "source": [
    "# Show class distribution\n",
    "class_distribution = df['target'].value_counts()\n",
    "print(\"Class Distribution:\")\n",
    "print(class_distribution)"
   ]
  },
  {
   "cell_type": "code",
   "execution_count": 13,
   "metadata": {},
   "outputs": [
    {
     "name": "stderr",
     "output_type": "stream",
     "text": [
      "C:\\Users\\bedom\\AppData\\Local\\Temp\\ipykernel_19284\\4269479099.py:6: FutureWarning: \n",
      "\n",
      "Passing `palette` without assigning `hue` is deprecated and will be removed in v0.14.0. Assign the `x` variable to `hue` and set `legend=False` for the same effect.\n",
      "\n",
      "  sns.barplot(x=class_distribution.index, y=class_distribution.values, palette='viridis')\n"
     ]
    },
    {
     "data": {
      "image/png": "[encoded data removed]",
      "text/plain": [
       "<Figure size 800x600 with 1 Axes>"
      ]
     },
     "metadata": {},
     "output_type": "display_data"
    }
   ],
   "source": [
    "# Plot class distribution\n",
    "import matplotlib.pyplot as plt\n",
    "import seaborn as sns\n",
    "\n",
    "plt.figure(figsize=(8, 6))\n",
    "sns.barplot(x=class_distribution.index, y=class_distribution.values, palette='viridis')\n",
    "plt.title('Class Distribution of Target Variable')\n",
    "plt.xlabel('Class')\n",
    "plt.ylabel('Frequency')\n",
    "plt.xticks(ticks=[0, 1], labels=['No Diabetes', 'Diabetes'])\n",
    "plt.show()"
   ]
  },
  {
   "cell_type": "markdown",
   "metadata": {},
   "source": [
    "**Think about:** Why do we need to observe the class distribution?\n",
    "\n",
    "Not Explained yet but I want to hear your guesses 😁 <br>\n",
    "Answer: ........."
   ]
  },
  {
   "cell_type": "code",
   "execution_count": 14,
   "metadata": {},
   "outputs": [
    {
     "name": "stdout",
     "output_type": "stream",
     "text": [
      "Logistic Regression - Accuracy: 0.68, Precision: 0.96, Recall: 0.37, F1 Score: 0.53\n",
      "Perceptron - Accuracy: 0.74, Precision: 0.76, Recall: 0.69, F1 Score: 0.73\n"
     ]
    },
    {
     "data": {
      "image/png": "[encoded data removed]",
      "text/plain": [
       "<Figure size 800x600 with 2 Axes>"
      ]
     },
     "metadata": {},
     "output_type": "display_data"
    },
    {
     "data": {
      "image/png": "[encoded data removed]",
      "text/plain": [
       "<Figure size 800x600 with 2 Axes>"
      ]
     },
     "metadata": {},
     "output_type": "display_data"
    }
   ],
   "source": [
    "def custom_train_test_split(X, y, test_size=0.3):\n",
    "    \"\"\"\n",
    "    Split the data into training and testing sets.\n",
    "\n",
    "    Parameters:\n",
    "    - X: Features data\n",
    "    - y: Target data\n",
    "    - test_size: Proportion of the dataset to include in the test split (default is 0.3)\n",
    "\n",
    "    Returns:\n",
    "    - X_train: Training features\n",
    "    - X_test: Testing features\n",
    "    - y_train: Training target\n",
    "    - y_test: Testing target\n",
    "    \"\"\"\n",
    "    # Calculate the number of samples\n",
    "    num_samples = X.shape[0]\n",
    "    # Calculate the number of test samples\n",
    "    num_test_samples = int(num_samples * test_size)\n",
    "    \n",
    "    # TODO: Create indices then shuffle them\n",
    "    # Hint: Shuffle the indices to ensure that the data is randomly split. Use np.arange(num_samples) to create the indices and np.random.shuffle to shuffle them.\n",
    "    # we use np.arange(num_samples) to create an array of indices from 0 to num_samples - 1\n",
    "    # We want then to shuffle it, if the original indices array was [0, 1, 2, 3, 4, 5, 6, 7, 8, 9], after shuffling it might become [3, 0, 8, 6, 2, 5, 9, 4, 7, 1].\n",
    "    # Why shuffling?\n",
    "    # Why Shuffle?\n",
    "    # Shuffling is important to ensure that your training and test sets are representative of the entire dataset and not affected by the order of the samples. \n",
    "    # Without shuffling, if the data is sorted or ordered in a certain way (e.g., all samples of one class appearing before another), \n",
    "    # the training and testing splits might not be representative of the overall dataset distribution.\n",
    "    # 1.\n",
    "    indices = np.arange(num_samples)\n",
    "    # 2.\n",
    "    np.random.shuffle(indices)\n",
    "\n",
    "    \n",
    "    # TODO: Split the indices into training and testing\n",
    "    test_indices = indices[:num_test_samples]\n",
    "    train_indices = indices[num_test_samples:]  \n",
    "    \n",
    "    # Create the training and testing sets\n",
    "    X_train, X_test = X[train_indices],X[test_indices]\n",
    "    y_train, y_test = y[train_indices],y[test_indices]\n",
    "    \n",
    "    return X_train, X_test, y_train, y_test\n",
    "\n",
    "# TODO: Split the data into training and testing sets\n",
    "X_train, X_test, y_train, y_test = custom_train_test_split(X, y_binary, test_size=0.3)\n",
    "\n",
    "\n",
    "# TODO: Initialize and train Logistic Regression model with a high number of iterations (max_iter=10000)\n",
    "log_reg =LogisticRegression(max_iter=10000)\n",
    "\n",
    "# TODO: Fit the model\n",
    "log_reg.fit(X_train, y_train)\n",
    "\n",
    "# TODO: Predict the target values\n",
    "y_pred_log_reg = log_reg.predict(X_test)\n",
    "\n",
    "# TODO Initialize and train Perceptron model with a high number of iterations (max_iter=10000)\n",
    "perceptron = Perceptron(max_iter=10000)\n",
    "\n",
    "# TODO: Fit the model\n",
    "perceptron.fit(X_train, y_train)\n",
    "\n",
    "# TODO: Predict the target values\n",
    "y_pred_perceptron = perceptron.predict(X_test)\n",
    "\n",
    "# Function to evaluate and print model metrics\n",
    "def evaluate_model(y_true, y_pred, model_name):\n",
    "    accuracy = accuracy_score(y_true, y_pred)\n",
    "    precision = precision_score(y_true, y_pred)\n",
    "    recall = recall_score(y_true, y_pred)\n",
    "    f1 = f1_score(y_true, y_pred)\n",
    "    \n",
    "    print(f\"{model_name} - Accuracy: {accuracy:.2f}, Precision: {precision:.2f}, Recall: {recall:.2f}, F1 Score: {f1:.2f}\")\n",
    "\n",
    "# Evaluate Logistic Regression\n",
    "# TODO: call the evaluate_model function to evaluate the Logistic Regression model\n",
    "evaluate_model(y_test, y_pred_log_reg, 'Logistic Regression')\n",
    "\n",
    "# Evaluate Perceptron\n",
    "# TODO: call the evaluate_model function to evaluate the Perceptron model\n",
    "evaluate_model(y_test, y_pred_perceptron, 'Perceptron')\n",
    "\n",
    "# Plot Confusion Matrix for Logistic Regression\n",
    "conf_matrix_log_reg = confusion_matrix(y_test, y_pred_log_reg)\n",
    "plt.figure(figsize=(8, 6))\n",
    "sns.heatmap(conf_matrix_log_reg, annot=True, fmt='d', cmap='Blues')\n",
    "plt.title('Confusion Matrix - Logistic Regression')\n",
    "plt.xlabel('Predicted')\n",
    "plt.ylabel('Actual')\n",
    "plt.show()\n",
    "\n",
    "# Plot Confusion Matrix for Perceptron\n",
    "conf_matrix_perceptron = confusion_matrix(y_test, y_pred_perceptron)\n",
    "plt.figure(figsize=(8, 6))\n",
    "sns.heatmap(conf_matrix_perceptron, annot=True, fmt='d', cmap='Reds')\n",
    "plt.title('Confusion Matrix - Perceptron')\n",
    "plt.xlabel('Predicted')\n",
    "plt.ylabel('Actual')\n",
    "plt.show() "
   ]
  },
  {
   "cell_type": "markdown",
   "metadata": {},
   "source": [
    "- The evaluation metrics have not been explained yet, but I want you to try to understand what these numbers and graphs represent!\n",
    "\n",
    "- Also, try running the train_test_split function multiple times and observe how it affects the evaluation metrics.\n",
    "\n",
    "- Additionally, search for another built-in function that can handle the data split."
   ]
  }
 ],
 "metadata": {
  "kernelspec": {
   "display_name": "ml",
   "language": "python",
   "name": "python3"
  },
  "language_info": {
   "codemirror_mode": {
    "name": "ipython",
    "version": 3
   },
   "file_extension": ".py",
   "mimetype": "text/x-python",
   "name": "python",
   "nbconvert_exporter": "python",
   "pygments_lexer": "ipython3",
   "version": "3.12.4"
  }
 },
 "nbformat": 4,
 "nbformat_minor": 2
}
